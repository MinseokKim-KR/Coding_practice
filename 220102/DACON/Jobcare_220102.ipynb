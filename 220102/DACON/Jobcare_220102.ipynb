{
 "cells": [
  {
   "cell_type": "code",
   "execution_count": 1,
   "id": "a8b919b0",
   "metadata": {},
   "outputs": [],
   "source": [
    "import numpy as np\n",
    "import pandas as pd"
   ]
  },
  {
   "cell_type": "code",
   "execution_count": 2,
   "id": "2f03f80a",
   "metadata": {
    "scrolled": true
   },
   "outputs": [
    {
     "name": "stdout",
     "output_type": "stream",
     "text": [
      "Collecting pandas-profiling\n",
      "  Downloading pandas_profiling-3.1.0-py2.py3-none-any.whl (261 kB)\n",
      "Requirement already satisfied: seaborn>=0.10.1 in c:\\users\\kimis\\appdata\\local\\programs\\python\\python39\\lib\\site-packages (from pandas-profiling) (0.11.1)\n",
      "Collecting htmlmin>=0.1.12\n",
      "  Downloading htmlmin-0.1.12.tar.gz (19 kB)\n",
      "Requirement already satisfied: joblib~=1.0.1 in c:\\users\\kimis\\appdata\\local\\programs\\python\\python39\\lib\\site-packages (from pandas-profiling) (1.0.1)\n",
      "Requirement already satisfied: missingno>=0.4.2 in c:\\users\\kimis\\appdata\\local\\programs\\python\\python39\\lib\\site-packages (from pandas-profiling) (0.5.0)\n",
      "Collecting multimethod>=1.4\n",
      "  Downloading multimethod-1.6-py3-none-any.whl (9.4 kB)\n",
      "Collecting phik>=0.11.1\n",
      "  Downloading phik-0.12.0-cp39-cp39-win_amd64.whl (659 kB)\n",
      "Requirement already satisfied: markupsafe~=2.0.1 in c:\\users\\kimis\\appdata\\local\\programs\\python\\python39\\lib\\site-packages (from pandas-profiling) (2.0.1)\n",
      "Requirement already satisfied: requests>=2.24.0 in c:\\users\\kimis\\appdata\\local\\programs\\python\\python39\\lib\\site-packages (from pandas-profiling) (2.26.0)\n",
      "Collecting visions[type_image_path]==0.7.4\n",
      "  Downloading visions-0.7.4-py3-none-any.whl (102 kB)\n",
      "Requirement already satisfied: jinja2>=2.11.1 in c:\\users\\kimis\\appdata\\local\\programs\\python\\python39\\lib\\site-packages (from pandas-profiling) (3.0.1)\n",
      "Requirement already satisfied: pydantic>=1.8.1 in c:\\users\\kimis\\appdata\\local\\programs\\python\\python39\\lib\\site-packages (from pandas-profiling) (1.8.2)\n",
      "Requirement already satisfied: matplotlib>=3.2.0 in c:\\users\\kimis\\appdata\\local\\programs\\python\\python39\\lib\\site-packages (from pandas-profiling) (3.4.3)\n",
      "Requirement already satisfied: pandas!=1.0.0,!=1.0.1,!=1.0.2,!=1.1.0,>=0.25.3 in c:\\users\\kimis\\appdata\\local\\programs\\python\\python39\\lib\\site-packages (from pandas-profiling) (1.3.1)\n",
      "Requirement already satisfied: numpy>=1.16.0 in c:\\users\\kimis\\appdata\\local\\programs\\python\\python39\\lib\\site-packages (from pandas-profiling) (1.21.2)\n",
      "Requirement already satisfied: tqdm>=4.48.2 in c:\\users\\kimis\\appdata\\local\\programs\\python\\python39\\lib\\site-packages (from pandas-profiling) (4.62.2)\n",
      "Collecting tangled-up-in-unicode==0.1.0\n",
      "  Downloading tangled_up_in_unicode-0.1.0-py3-none-any.whl (3.1 MB)\n",
      "Requirement already satisfied: PyYAML>=5.0.0 in c:\\users\\kimis\\appdata\\local\\programs\\python\\python39\\lib\\site-packages (from pandas-profiling) (5.4.1)\n",
      "Requirement already satisfied: scipy>=1.4.1 in c:\\users\\kimis\\appdata\\local\\programs\\python\\python39\\lib\\site-packages (from pandas-profiling) (1.7.1)\n",
      "Collecting networkx>=2.4\n",
      "  Downloading networkx-2.6.3-py3-none-any.whl (1.9 MB)\n",
      "Requirement already satisfied: attrs>=19.3.0 in c:\\users\\kimis\\appdata\\local\\programs\\python\\python39\\lib\\site-packages (from visions[type_image_path]==0.7.4->pandas-profiling) (21.2.0)\n",
      "Requirement already satisfied: Pillow in c:\\users\\kimis\\appdata\\local\\programs\\python\\python39\\lib\\site-packages (from visions[type_image_path]==0.7.4->pandas-profiling) (8.3.1)\n",
      "Collecting imagehash\n",
      "  Downloading ImageHash-4.2.1.tar.gz (812 kB)\n",
      "Requirement already satisfied: kiwisolver>=1.0.1 in c:\\users\\kimis\\appdata\\local\\programs\\python\\python39\\lib\\site-packages (from matplotlib>=3.2.0->pandas-profiling) (1.3.1)\n",
      "Requirement already satisfied: cycler>=0.10 in c:\\users\\kimis\\appdata\\local\\programs\\python\\python39\\lib\\site-packages (from matplotlib>=3.2.0->pandas-profiling) (0.10.0)\n",
      "Requirement already satisfied: python-dateutil>=2.7 in c:\\users\\kimis\\appdata\\local\\programs\\python\\python39\\lib\\site-packages (from matplotlib>=3.2.0->pandas-profiling) (2.8.2)\n",
      "Requirement already satisfied: pyparsing>=2.2.1 in c:\\users\\kimis\\appdata\\local\\programs\\python\\python39\\lib\\site-packages (from matplotlib>=3.2.0->pandas-profiling) (2.4.7)\n",
      "Requirement already satisfied: six in c:\\users\\kimis\\appdata\\local\\programs\\python\\python39\\lib\\site-packages (from cycler>=0.10->matplotlib>=3.2.0->pandas-profiling) (1.15.0)\n",
      "Requirement already satisfied: pytz>=2017.3 in c:\\users\\kimis\\appdata\\local\\programs\\python\\python39\\lib\\site-packages (from pandas!=1.0.0,!=1.0.1,!=1.0.2,!=1.1.0,>=0.25.3->pandas-profiling) (2021.1)\n",
      "Requirement already satisfied: typing-extensions>=3.7.4.3 in c:\\users\\kimis\\appdata\\local\\programs\\python\\python39\\lib\\site-packages (from pydantic>=1.8.1->pandas-profiling) (3.7.4.3)\n",
      "Requirement already satisfied: idna<4,>=2.5 in c:\\users\\kimis\\appdata\\local\\programs\\python\\python39\\lib\\site-packages (from requests>=2.24.0->pandas-profiling) (3.2)\n",
      "Requirement already satisfied: urllib3<1.27,>=1.21.1 in c:\\users\\kimis\\appdata\\local\\programs\\python\\python39\\lib\\site-packages (from requests>=2.24.0->pandas-profiling) (1.26.6)\n",
      "Requirement already satisfied: charset-normalizer~=2.0.0 in c:\\users\\kimis\\appdata\\local\\programs\\python\\python39\\lib\\site-packages (from requests>=2.24.0->pandas-profiling) (2.0.4)\n",
      "Requirement already satisfied: certifi>=2017.4.17 in c:\\users\\kimis\\appdata\\local\\programs\\python\\python39\\lib\\site-packages (from requests>=2.24.0->pandas-profiling) (2021.5.30)\n",
      "Requirement already satisfied: colorama in c:\\users\\kimis\\appdata\\local\\programs\\python\\python39\\lib\\site-packages (from tqdm>=4.48.2->pandas-profiling) (0.4.4)\n",
      "Collecting PyWavelets\n",
      "  Downloading PyWavelets-1.2.0-cp39-cp39-win_amd64.whl (4.2 MB)\n",
      "Building wheels for collected packages: htmlmin, imagehash\n",
      "  Building wheel for htmlmin (setup.py): started\n",
      "  Building wheel for htmlmin (setup.py): finished with status 'done'\n",
      "  Created wheel for htmlmin: filename=htmlmin-0.1.12-py3-none-any.whl size=27085 sha256=67b9a956c171267f2ba03814958e0a85ff64e17217629ff1897ba8ddd8ad7155\n",
      "  Stored in directory: c:\\users\\kimis\\appdata\\local\\pip\\cache\\wheels\\1d\\05\\04\\c6d7d3b66539d9e659ac6dfe81e2d0fd4c1a8316cc5a403300\n",
      "  Building wheel for imagehash (setup.py): started\n",
      "  Building wheel for imagehash (setup.py): finished with status 'done'\n",
      "  Created wheel for imagehash: filename=ImageHash-4.2.1-py2.py3-none-any.whl size=295197 sha256=174eb9b81784a41809e6f77e2e27645c689e71be9a53e8bf4958e3e410c973b8\n",
      "  Stored in directory: c:\\users\\kimis\\appdata\\local\\pip\\cache\\wheels\\51\\f9\\a5\\740af2fdb0ad1edf79aabdc41531be0b6f0b2e2be684c388cf\n",
      "Successfully built htmlmin imagehash\n",
      "Installing collected packages: tangled-up-in-unicode, PyWavelets, networkx, multimethod, visions, imagehash, phik, htmlmin, pandas-profiling\n",
      "Successfully installed PyWavelets-1.2.0 htmlmin-0.1.12 imagehash-4.2.1 multimethod-1.6 networkx-2.6.3 pandas-profiling-3.1.0 phik-0.12.0 tangled-up-in-unicode-0.1.0 visions-0.7.4\n"
     ]
    },
    {
     "name": "stderr",
     "output_type": "stream",
     "text": [
      "WARNING: You are using pip version 21.2.4; however, version 21.3.1 is available.\n",
      "You should consider upgrading via the 'c:\\users\\kimis\\appdata\\local\\programs\\python\\python39\\python.exe -m pip install --upgrade pip' command.\n"
     ]
    }
   ],
   "source": [
    "!pip install pandas-profiling"
   ]
  },
  {
   "cell_type": "code",
   "execution_count": 8,
   "id": "96fe4701",
   "metadata": {},
   "outputs": [
    {
     "name": "stdout",
     "output_type": "stream",
     "text": [
      "Requirement already satisfied: pip in c:\\users\\kimis\\appdata\\local\\programs\\python\\python39\\lib\\site-packages (21.2.4)\n",
      "Collecting pip\n",
      "  Downloading pip-21.3.1-py3-none-any.whl (1.7 MB)\n",
      "Installing collected packages: pip\n",
      "  Attempting uninstall: pip\n",
      "    Found existing installation: pip 21.2.4\n",
      "    Uninstalling pip-21.2.4:\n",
      "      Successfully uninstalled pip-21.2.4\n"
     ]
    },
    {
     "name": "stderr",
     "output_type": "stream",
     "text": [
      "ERROR: Could not install packages due to an OSError: [WinError 5] 액세스가 거부되었습니다: 'C:\\\\Users\\\\kimis\\\\AppData\\\\Local\\\\Temp\\\\pip-uninstall-0eyans1j\\\\pip.exe'\n",
      "Consider using the `--user` option or check the permissions.\n",
      "\n"
     ]
    }
   ],
   "source": [
    "!pip install --upgrade pip"
   ]
  },
  {
   "cell_type": "code",
   "execution_count": 9,
   "id": "df98030b",
   "metadata": {
    "scrolled": true
   },
   "outputs": [
    {
     "name": "stdout",
     "output_type": "stream",
     "text": [
      "Requirement already satisfied: pandas-profiling in c:\\users\\kimis\\appdata\\local\\programs\\python\\python39\\lib\\site-packages (3.1.0)\n",
      "Requirement already satisfied: scipy>=1.4.1 in c:\\users\\kimis\\appdata\\local\\programs\\python\\python39\\lib\\site-packages (from pandas-profiling) (1.7.1)\n",
      "Requirement already satisfied: tangled-up-in-unicode==0.1.0 in c:\\users\\kimis\\appdata\\local\\programs\\python\\python39\\lib\\site-packages (from pandas-profiling) (0.1.0)\n",
      "Requirement already satisfied: requests>=2.24.0 in c:\\users\\kimis\\appdata\\local\\programs\\python\\python39\\lib\\site-packages (from pandas-profiling) (2.26.0)\n",
      "Requirement already satisfied: missingno>=0.4.2 in c:\\users\\kimis\\appdata\\local\\programs\\python\\python39\\lib\\site-packages (from pandas-profiling) (0.5.0)\n",
      "Requirement already satisfied: tqdm>=4.48.2 in c:\\users\\kimis\\appdata\\local\\programs\\python\\python39\\lib\\site-packages (from pandas-profiling) (4.62.2)\n",
      "Requirement already satisfied: seaborn>=0.10.1 in c:\\users\\kimis\\appdata\\local\\programs\\python\\python39\\lib\\site-packages (from pandas-profiling) (0.11.1)\n",
      "Requirement already satisfied: joblib~=1.0.1 in c:\\users\\kimis\\appdata\\local\\programs\\python\\python39\\lib\\site-packages (from pandas-profiling) (1.0.1)\n",
      "Requirement already satisfied: multimethod>=1.4 in c:\\users\\kimis\\appdata\\local\\programs\\python\\python39\\lib\\site-packages (from pandas-profiling) (1.6)\n",
      "Requirement already satisfied: htmlmin>=0.1.12 in c:\\users\\kimis\\appdata\\local\\programs\\python\\python39\\lib\\site-packages (from pandas-profiling) (0.1.12)\n",
      "Requirement already satisfied: jinja2>=2.11.1 in c:\\users\\kimis\\appdata\\local\\programs\\python\\python39\\lib\\site-packages (from pandas-profiling) (3.0.1)\n",
      "Requirement already satisfied: PyYAML>=5.0.0 in c:\\users\\kimis\\appdata\\local\\programs\\python\\python39\\lib\\site-packages (from pandas-profiling) (5.4.1)\n",
      "Requirement already satisfied: matplotlib>=3.2.0 in c:\\users\\kimis\\appdata\\local\\programs\\python\\python39\\lib\\site-packages (from pandas-profiling) (3.4.3)\n",
      "Requirement already satisfied: phik>=0.11.1 in c:\\users\\kimis\\appdata\\local\\programs\\python\\python39\\lib\\site-packages (from pandas-profiling) (0.12.0)\n",
      "Requirement already satisfied: visions[type_image_path]==0.7.4 in c:\\users\\kimis\\appdata\\local\\programs\\python\\python39\\lib\\site-packages (from pandas-profiling) (0.7.4)\n",
      "Requirement already satisfied: numpy>=1.16.0 in c:\\users\\kimis\\appdata\\local\\programs\\python\\python39\\lib\\site-packages (from pandas-profiling) (1.21.2)\n",
      "Requirement already satisfied: markupsafe~=2.0.1 in c:\\users\\kimis\\appdata\\local\\programs\\python\\python39\\lib\\site-packages (from pandas-profiling) (2.0.1)\n",
      "Requirement already satisfied: pydantic>=1.8.1 in c:\\users\\kimis\\appdata\\local\\programs\\python\\python39\\lib\\site-packages (from pandas-profiling) (1.8.2)\n",
      "Requirement already satisfied: pandas!=1.0.0,!=1.0.1,!=1.0.2,!=1.1.0,>=0.25.3 in c:\\users\\kimis\\appdata\\local\\programs\\python\\python39\\lib\\site-packages (from pandas-profiling) (1.3.1)\n",
      "Requirement already satisfied: attrs>=19.3.0 in c:\\users\\kimis\\appdata\\local\\programs\\python\\python39\\lib\\site-packages (from visions[type_image_path]==0.7.4->pandas-profiling) (21.2.0)\n",
      "Requirement already satisfied: networkx>=2.4 in c:\\users\\kimis\\appdata\\local\\programs\\python\\python39\\lib\\site-packages (from visions[type_image_path]==0.7.4->pandas-profiling) (2.6.3)\n",
      "Requirement already satisfied: imagehash in c:\\users\\kimis\\appdata\\local\\programs\\python\\python39\\lib\\site-packages (from visions[type_image_path]==0.7.4->pandas-profiling) (4.2.1)\n",
      "Requirement already satisfied: Pillow in c:\\users\\kimis\\appdata\\local\\programs\\python\\python39\\lib\\site-packages (from visions[type_image_path]==0.7.4->pandas-profiling) (8.3.1)\n",
      "Requirement already satisfied: python-dateutil>=2.7 in c:\\users\\kimis\\appdata\\local\\programs\\python\\python39\\lib\\site-packages (from matplotlib>=3.2.0->pandas-profiling) (2.8.2)\n",
      "Requirement already satisfied: pyparsing>=2.2.1 in c:\\users\\kimis\\appdata\\local\\programs\\python\\python39\\lib\\site-packages (from matplotlib>=3.2.0->pandas-profiling) (2.4.7)\n",
      "Requirement already satisfied: kiwisolver>=1.0.1 in c:\\users\\kimis\\appdata\\local\\programs\\python\\python39\\lib\\site-packages (from matplotlib>=3.2.0->pandas-profiling) (1.3.1)\n",
      "Requirement already satisfied: cycler>=0.10 in c:\\users\\kimis\\appdata\\local\\programs\\python\\python39\\lib\\site-packages (from matplotlib>=3.2.0->pandas-profiling) (0.10.0)\n",
      "Requirement already satisfied: pytz>=2017.3 in c:\\users\\kimis\\appdata\\local\\programs\\python\\python39\\lib\\site-packages (from pandas!=1.0.0,!=1.0.1,!=1.0.2,!=1.1.0,>=0.25.3->pandas-profiling) (2021.1)\n",
      "Requirement already satisfied: typing-extensions>=3.7.4.3 in c:\\users\\kimis\\appdata\\local\\programs\\python\\python39\\lib\\site-packages (from pydantic>=1.8.1->pandas-profiling) (3.7.4.3)\n",
      "Requirement already satisfied: certifi>=2017.4.17 in c:\\users\\kimis\\appdata\\local\\programs\\python\\python39\\lib\\site-packages (from requests>=2.24.0->pandas-profiling) (2021.5.30)\n",
      "Requirement already satisfied: charset-normalizer~=2.0.0 in c:\\users\\kimis\\appdata\\local\\programs\\python\\python39\\lib\\site-packages (from requests>=2.24.0->pandas-profiling) (2.0.4)\n",
      "Requirement already satisfied: idna<4,>=2.5 in c:\\users\\kimis\\appdata\\local\\programs\\python\\python39\\lib\\site-packages (from requests>=2.24.0->pandas-profiling) (3.2)\n",
      "Requirement already satisfied: urllib3<1.27,>=1.21.1 in c:\\users\\kimis\\appdata\\local\\programs\\python\\python39\\lib\\site-packages (from requests>=2.24.0->pandas-profiling) (1.26.6)\n",
      "Requirement already satisfied: colorama in c:\\users\\kimis\\appdata\\local\\programs\\python\\python39\\lib\\site-packages (from tqdm>=4.48.2->pandas-profiling) (0.4.4)\n",
      "Requirement already satisfied: six in c:\\users\\kimis\\appdata\\local\\programs\\python\\python39\\lib\\site-packages (from cycler>=0.10->matplotlib>=3.2.0->pandas-profiling) (1.15.0)\n",
      "Requirement already satisfied: PyWavelets in c:\\users\\kimis\\appdata\\local\\programs\\python\\python39\\lib\\site-packages (from imagehash->visions[type_image_path]==0.7.4->pandas-profiling) (1.2.0)\n"
     ]
    }
   ],
   "source": [
    "!pip install -U pandas-profiling"
   ]
  },
  {
   "cell_type": "code",
   "execution_count": 11,
   "id": "1ae78f78",
   "metadata": {},
   "outputs": [
    {
     "name": "stdout",
     "output_type": "stream",
     "text": [
      "Requirement already satisfied: pandas in c:\\users\\kimis\\appdata\\local\\programs\\python\\python39\\lib\\site-packages (1.3.1)\n",
      "Collecting pandas\n",
      "  Downloading pandas-1.3.5-cp39-cp39-win_amd64.whl (10.2 MB)\n",
      "Requirement already satisfied: pytz>=2017.3 in c:\\users\\kimis\\appdata\\local\\programs\\python\\python39\\lib\\site-packages (from pandas) (2021.1)\n",
      "Requirement already satisfied: numpy>=1.17.3 in c:\\users\\kimis\\appdata\\local\\programs\\python\\python39\\lib\\site-packages (from pandas) (1.21.2)\n",
      "Requirement already satisfied: python-dateutil>=2.7.3 in c:\\users\\kimis\\appdata\\local\\programs\\python\\python39\\lib\\site-packages (from pandas) (2.8.2)\n",
      "Requirement already satisfied: six>=1.5 in c:\\users\\kimis\\appdata\\local\\programs\\python\\python39\\lib\\site-packages (from python-dateutil>=2.7.3->pandas) (1.15.0)\n",
      "Installing collected packages: pandas\n",
      "  Attempting uninstall: pandas\n",
      "    Found existing installation: pandas 1.3.1\n",
      "    Uninstalling pandas-1.3.1:\n",
      "      Successfully uninstalled pandas-1.3.1\n"
     ]
    },
    {
     "name": "stderr",
     "output_type": "stream",
     "text": [
      "ERROR: Could not install packages due to an OSError: [WinError 5] 액세스가 거부되었습니다: 'C:\\\\Users\\\\kimis\\\\AppData\\\\Local\\\\Programs\\\\Python\\\\Python39\\\\Lib\\\\site-packages\\\\~andas\\\\_libs\\\\algos.cp39-win_amd64.pyd'\n",
      "Consider using the `--user` option or check the permissions.\n",
      "\n"
     ]
    }
   ],
   "source": [
    "!pip install -U pandas"
   ]
  },
  {
   "cell_type": "code",
   "execution_count": null,
   "id": "a9ea9e99",
   "metadata": {},
   "outputs": [],
   "source": []
  },
  {
   "cell_type": "code",
   "execution_count": 2,
   "id": "31c82328",
   "metadata": {},
   "outputs": [],
   "source": [
    "from typing import Dict\n",
    "def add_code(\n",
    "    df: pd.DataFrame,\n",
    "    d_code: Dict[int, Dict[str, int]], \n",
    "    h_code: Dict[int, Dict[str, int]], \n",
    "    l_code: Dict[int, Dict[str, int]],\n",
    ") -> pd.DataFrame:\n",
    "    \n",
    "    # Copy input data\n",
    "    df = df.copy()   \n",
    "\n",
    "    # D Code\n",
    "    df['person_prefer_d_1_n'] = df['person_prefer_d_1'].apply(lambda x: d_code[x]['속성 D 세분류코드'])\n",
    "    df['person_prefer_d_1_s'] = df['person_prefer_d_1'].apply(lambda x: d_code[x]['속성 D 소분류코드'])\n",
    "    df['person_prefer_d_1_m'] = df['person_prefer_d_1'].apply(lambda x: d_code[x]['속성 D 중분류코드'])\n",
    "    df['person_prefer_d_1_l'] = df['person_prefer_d_1'].apply(lambda x: d_code[x]['속성 D 대분류코드'])\n",
    "\n",
    "    df['person_prefer_d_2_n'] = df['person_prefer_d_2'].apply(lambda x: d_code[x]['속성 D 세분류코드'])\n",
    "    df['person_prefer_d_2_s'] = df['person_prefer_d_2'].apply(lambda x: d_code[x]['속성 D 소분류코드'])\n",
    "    df['person_prefer_d_2_m'] = df['person_prefer_d_2'].apply(lambda x: d_code[x]['속성 D 중분류코드'])\n",
    "    df['person_prefer_d_2_l'] = df['person_prefer_d_2'].apply(lambda x: d_code[x]['속성 D 대분류코드'])\n",
    "\n",
    "    df['person_prefer_d_3_n'] = df['person_prefer_d_3'].apply(lambda x: d_code[x]['속성 D 세분류코드'])\n",
    "    df['person_prefer_d_3_s'] = df['person_prefer_d_3'].apply(lambda x: d_code[x]['속성 D 소분류코드'])\n",
    "    df['person_prefer_d_3_m'] = df['person_prefer_d_3'].apply(lambda x: d_code[x]['속성 D 중분류코드'])\n",
    "    df['person_prefer_d_3_l'] = df['person_prefer_d_3'].apply(lambda x: d_code[x]['속성 D 대분류코드'])\n",
    "\n",
    "    df['contents_attribute_d_n'] = df['contents_attribute_d'].apply(lambda x: d_code[x]['속성 D 세분류코드'])\n",
    "    df['contents_attribute_d_s'] = df['contents_attribute_d'].apply(lambda x: d_code[x]['속성 D 소분류코드'])\n",
    "    df['contents_attribute_d_m'] = df['contents_attribute_d'].apply(lambda x: d_code[x]['속성 D 중분류코드'])\n",
    "    df['contents_attribute_d_l'] = df['contents_attribute_d'].apply(lambda x: d_code[x]['속성 D 대분류코드'])\n",
    "\n",
    "    # H Code\n",
    "    df['person_prefer_h_1_l'] = df['person_prefer_h_1'].apply(lambda x: h_code[x]['속성 H 대분류코드'])\n",
    "    df['person_prefer_h_1_m'] = df['person_prefer_h_1'].apply(lambda x: h_code[x]['속성 H 중분류코드'])\n",
    "    \n",
    "    df['person_prefer_h_2_l'] = df['person_prefer_h_2'].apply(lambda x: h_code[x]['속성 H 대분류코드'])\n",
    "    df['person_prefer_h_2_m'] = df['person_prefer_h_2'].apply(lambda x: h_code[x]['속성 H 중분류코드'])\n",
    "    \n",
    "    df['person_prefer_h_3_l'] = df['person_prefer_h_3'].apply(lambda x: h_code[x]['속성 H 대분류코드'])\n",
    "    df['person_prefer_h_3_m'] = df['person_prefer_h_3'].apply(lambda x: h_code[x]['속성 H 중분류코드'])\n",
    "\n",
    "    df['contents_attribute_h_l'] = df['contents_attribute_h'].apply(lambda x: h_code[x]['속성 H 대분류코드'])\n",
    "    df['contents_attribute_h_m'] = df['contents_attribute_h'].apply(lambda x: h_code[x]['속성 H 중분류코드'])\n",
    "\n",
    "    # L Code\n",
    "    df['contents_attribute_l_n'] = df['contents_attribute_l'].apply(lambda x: l_code[x]['속성 L 세분류코드'])\n",
    "    df['contents_attribute_l_s'] = df['contents_attribute_l'].apply(lambda x: l_code[x]['속성 L 소분류코드'])\n",
    "    df['contents_attribute_l_m'] = df['contents_attribute_l'].apply(lambda x: l_code[x]['속성 L 중분류코드'])\n",
    "    df['contents_attribute_l_l'] = df['contents_attribute_l'].apply(lambda x: l_code[x]['속성 L 대분류코드'])\n",
    "    \n",
    "    return df"
   ]
  },
  {
   "cell_type": "code",
   "execution_count": 3,
   "id": "a940e40c",
   "metadata": {},
   "outputs": [],
   "source": [
    "d_code = pd.read_csv('Jobcare_data/속성_D_코드.csv', index_col=0).T.to_dict()\n",
    "h_code = pd.read_csv('Jobcare_data/속성_H_코드.csv', index_col=0).T.to_dict()\n",
    "l_code = pd.read_csv('Jobcare_data/속성_L_코드.csv', index_col=0).T.to_dict()\n",
    "\n",
    "df_train = pd.read_csv('Jobcare_data/train.csv')\n",
    "df_test = pd.read_csv('Jobcare_data/test.csv')\n",
    "\n",
    "df_train = add_code(df_train, d_code, h_code, l_code)\n",
    "df_test = add_code(df_test, d_code, h_code, l_code)"
   ]
  },
  {
   "cell_type": "code",
   "execution_count": 4,
   "id": "55c04b4b",
   "metadata": {},
   "outputs": [
    {
     "data": {
      "text/html": [
       "<div>\n",
       "<style scoped>\n",
       "    .dataframe tbody tr th:only-of-type {\n",
       "        vertical-align: middle;\n",
       "    }\n",
       "\n",
       "    .dataframe tbody tr th {\n",
       "        vertical-align: top;\n",
       "    }\n",
       "\n",
       "    .dataframe thead th {\n",
       "        text-align: right;\n",
       "    }\n",
       "</style>\n",
       "<table border=\"1\" class=\"dataframe\">\n",
       "  <thead>\n",
       "    <tr style=\"text-align: right;\">\n",
       "      <th></th>\n",
       "      <th>id</th>\n",
       "      <th>d_l_match_yn</th>\n",
       "      <th>d_m_match_yn</th>\n",
       "      <th>d_s_match_yn</th>\n",
       "      <th>h_l_match_yn</th>\n",
       "      <th>h_m_match_yn</th>\n",
       "      <th>h_s_match_yn</th>\n",
       "      <th>person_attribute_a</th>\n",
       "      <th>person_attribute_a_1</th>\n",
       "      <th>person_attribute_b</th>\n",
       "      <th>...</th>\n",
       "      <th>person_prefer_h_2_l</th>\n",
       "      <th>person_prefer_h_2_m</th>\n",
       "      <th>person_prefer_h_3_l</th>\n",
       "      <th>person_prefer_h_3_m</th>\n",
       "      <th>contents_attribute_h_l</th>\n",
       "      <th>contents_attribute_h_m</th>\n",
       "      <th>contents_attribute_l_n</th>\n",
       "      <th>contents_attribute_l_s</th>\n",
       "      <th>contents_attribute_l_m</th>\n",
       "      <th>contents_attribute_l_l</th>\n",
       "    </tr>\n",
       "  </thead>\n",
       "  <tbody>\n",
       "    <tr>\n",
       "      <th>0</th>\n",
       "      <td>0</td>\n",
       "      <td>True</td>\n",
       "      <td>True</td>\n",
       "      <td>True</td>\n",
       "      <td>False</td>\n",
       "      <td>False</td>\n",
       "      <td>False</td>\n",
       "      <td>1</td>\n",
       "      <td>4</td>\n",
       "      <td>3</td>\n",
       "      <td>...</td>\n",
       "      <td>94</td>\n",
       "      <td>398</td>\n",
       "      <td>58</td>\n",
       "      <td>368</td>\n",
       "      <td>94</td>\n",
       "      <td>422</td>\n",
       "      <td>1607</td>\n",
       "      <td>1606</td>\n",
       "      <td>1605</td>\n",
       "      <td>2016</td>\n",
       "    </tr>\n",
       "    <tr>\n",
       "      <th>1</th>\n",
       "      <td>1</td>\n",
       "      <td>False</td>\n",
       "      <td>False</td>\n",
       "      <td>False</td>\n",
       "      <td>True</td>\n",
       "      <td>True</td>\n",
       "      <td>False</td>\n",
       "      <td>1</td>\n",
       "      <td>3</td>\n",
       "      <td>4</td>\n",
       "      <td>...</td>\n",
       "      <td>94</td>\n",
       "      <td>400</td>\n",
       "      <td>94</td>\n",
       "      <td>399</td>\n",
       "      <td>94</td>\n",
       "      <td>417</td>\n",
       "      <td>1607</td>\n",
       "      <td>1606</td>\n",
       "      <td>1605</td>\n",
       "      <td>2016</td>\n",
       "    </tr>\n",
       "    <tr>\n",
       "      <th>2</th>\n",
       "      <td>2</td>\n",
       "      <td>False</td>\n",
       "      <td>False</td>\n",
       "      <td>False</td>\n",
       "      <td>True</td>\n",
       "      <td>False</td>\n",
       "      <td>False</td>\n",
       "      <td>2</td>\n",
       "      <td>0</td>\n",
       "      <td>3</td>\n",
       "      <td>...</td>\n",
       "      <td>250</td>\n",
       "      <td>528</td>\n",
       "      <td>48</td>\n",
       "      <td>366</td>\n",
       "      <td>48</td>\n",
       "      <td>363</td>\n",
       "      <td>1599</td>\n",
       "      <td>1595</td>\n",
       "      <td>1572</td>\n",
       "      <td>2016</td>\n",
       "    </tr>\n",
       "    <tr>\n",
       "      <th>3</th>\n",
       "      <td>3</td>\n",
       "      <td>False</td>\n",
       "      <td>False</td>\n",
       "      <td>False</td>\n",
       "      <td>True</td>\n",
       "      <td>False</td>\n",
       "      <td>False</td>\n",
       "      <td>2</td>\n",
       "      <td>0</td>\n",
       "      <td>2</td>\n",
       "      <td>...</td>\n",
       "      <td>226</td>\n",
       "      <td>495</td>\n",
       "      <td>1</td>\n",
       "      <td>315</td>\n",
       "      <td>71</td>\n",
       "      <td>381</td>\n",
       "      <td>1607</td>\n",
       "      <td>1606</td>\n",
       "      <td>1605</td>\n",
       "      <td>2016</td>\n",
       "    </tr>\n",
       "    <tr>\n",
       "      <th>4</th>\n",
       "      <td>4</td>\n",
       "      <td>True</td>\n",
       "      <td>True</td>\n",
       "      <td>True</td>\n",
       "      <td>False</td>\n",
       "      <td>False</td>\n",
       "      <td>False</td>\n",
       "      <td>1</td>\n",
       "      <td>3</td>\n",
       "      <td>4</td>\n",
       "      <td>...</td>\n",
       "      <td>208</td>\n",
       "      <td>481</td>\n",
       "      <td>208</td>\n",
       "      <td>480</td>\n",
       "      <td>71</td>\n",
       "      <td>381</td>\n",
       "      <td>1607</td>\n",
       "      <td>1606</td>\n",
       "      <td>1605</td>\n",
       "      <td>2016</td>\n",
       "    </tr>\n",
       "    <tr>\n",
       "      <th>...</th>\n",
       "      <td>...</td>\n",
       "      <td>...</td>\n",
       "      <td>...</td>\n",
       "      <td>...</td>\n",
       "      <td>...</td>\n",
       "      <td>...</td>\n",
       "      <td>...</td>\n",
       "      <td>...</td>\n",
       "      <td>...</td>\n",
       "      <td>...</td>\n",
       "      <td>...</td>\n",
       "      <td>...</td>\n",
       "      <td>...</td>\n",
       "      <td>...</td>\n",
       "      <td>...</td>\n",
       "      <td>...</td>\n",
       "      <td>...</td>\n",
       "      <td>...</td>\n",
       "      <td>...</td>\n",
       "      <td>...</td>\n",
       "      <td>...</td>\n",
       "    </tr>\n",
       "    <tr>\n",
       "      <th>501946</th>\n",
       "      <td>501946</td>\n",
       "      <td>False</td>\n",
       "      <td>False</td>\n",
       "      <td>False</td>\n",
       "      <td>True</td>\n",
       "      <td>False</td>\n",
       "      <td>False</td>\n",
       "      <td>1</td>\n",
       "      <td>1</td>\n",
       "      <td>2</td>\n",
       "      <td>...</td>\n",
       "      <td>3</td>\n",
       "      <td>316</td>\n",
       "      <td>94</td>\n",
       "      <td>398</td>\n",
       "      <td>58</td>\n",
       "      <td>373</td>\n",
       "      <td>352</td>\n",
       "      <td>347</td>\n",
       "      <td>346</td>\n",
       "      <td>2006</td>\n",
       "    </tr>\n",
       "    <tr>\n",
       "      <th>501947</th>\n",
       "      <td>501947</td>\n",
       "      <td>True</td>\n",
       "      <td>True</td>\n",
       "      <td>False</td>\n",
       "      <td>True</td>\n",
       "      <td>False</td>\n",
       "      <td>False</td>\n",
       "      <td>1</td>\n",
       "      <td>6</td>\n",
       "      <td>2</td>\n",
       "      <td>...</td>\n",
       "      <td>94</td>\n",
       "      <td>425</td>\n",
       "      <td>94</td>\n",
       "      <td>398</td>\n",
       "      <td>94</td>\n",
       "      <td>425</td>\n",
       "      <td>155</td>\n",
       "      <td>138</td>\n",
       "      <td>99</td>\n",
       "      <td>2006</td>\n",
       "    </tr>\n",
       "    <tr>\n",
       "      <th>501948</th>\n",
       "      <td>501948</td>\n",
       "      <td>True</td>\n",
       "      <td>True</td>\n",
       "      <td>True</td>\n",
       "      <td>True</td>\n",
       "      <td>False</td>\n",
       "      <td>False</td>\n",
       "      <td>1</td>\n",
       "      <td>7</td>\n",
       "      <td>4</td>\n",
       "      <td>...</td>\n",
       "      <td>94</td>\n",
       "      <td>413</td>\n",
       "      <td>94</td>\n",
       "      <td>422</td>\n",
       "      <td>58</td>\n",
       "      <td>373</td>\n",
       "      <td>437</td>\n",
       "      <td>417</td>\n",
       "      <td>407</td>\n",
       "      <td>2006</td>\n",
       "    </tr>\n",
       "    <tr>\n",
       "      <th>501949</th>\n",
       "      <td>501949</td>\n",
       "      <td>True</td>\n",
       "      <td>False</td>\n",
       "      <td>False</td>\n",
       "      <td>True</td>\n",
       "      <td>False</td>\n",
       "      <td>False</td>\n",
       "      <td>1</td>\n",
       "      <td>1</td>\n",
       "      <td>2</td>\n",
       "      <td>...</td>\n",
       "      <td>48</td>\n",
       "      <td>359</td>\n",
       "      <td>250</td>\n",
       "      <td>523</td>\n",
       "      <td>250</td>\n",
       "      <td>524</td>\n",
       "      <td>659</td>\n",
       "      <td>652</td>\n",
       "      <td>651</td>\n",
       "      <td>2006</td>\n",
       "    </tr>\n",
       "    <tr>\n",
       "      <th>501950</th>\n",
       "      <td>501950</td>\n",
       "      <td>True</td>\n",
       "      <td>True</td>\n",
       "      <td>True</td>\n",
       "      <td>True</td>\n",
       "      <td>False</td>\n",
       "      <td>False</td>\n",
       "      <td>1</td>\n",
       "      <td>6</td>\n",
       "      <td>3</td>\n",
       "      <td>...</td>\n",
       "      <td>30</td>\n",
       "      <td>342</td>\n",
       "      <td>48</td>\n",
       "      <td>359</td>\n",
       "      <td>277</td>\n",
       "      <td>548</td>\n",
       "      <td>785</td>\n",
       "      <td>784</td>\n",
       "      <td>759</td>\n",
       "      <td>2006</td>\n",
       "    </tr>\n",
       "  </tbody>\n",
       "</table>\n",
       "<p>501951 rows × 63 columns</p>\n",
       "</div>"
      ],
      "text/plain": [
       "            id  d_l_match_yn  d_m_match_yn  d_s_match_yn  h_l_match_yn  \\\n",
       "0            0          True          True          True         False   \n",
       "1            1         False         False         False          True   \n",
       "2            2         False         False         False          True   \n",
       "3            3         False         False         False          True   \n",
       "4            4          True          True          True         False   \n",
       "...        ...           ...           ...           ...           ...   \n",
       "501946  501946         False         False         False          True   \n",
       "501947  501947          True          True         False          True   \n",
       "501948  501948          True          True          True          True   \n",
       "501949  501949          True         False         False          True   \n",
       "501950  501950          True          True          True          True   \n",
       "\n",
       "        h_m_match_yn  h_s_match_yn  person_attribute_a  person_attribute_a_1  \\\n",
       "0              False         False                   1                     4   \n",
       "1               True         False                   1                     3   \n",
       "2              False         False                   2                     0   \n",
       "3              False         False                   2                     0   \n",
       "4              False         False                   1                     3   \n",
       "...              ...           ...                 ...                   ...   \n",
       "501946         False         False                   1                     1   \n",
       "501947         False         False                   1                     6   \n",
       "501948         False         False                   1                     7   \n",
       "501949         False         False                   1                     1   \n",
       "501950         False         False                   1                     6   \n",
       "\n",
       "        person_attribute_b  ...  person_prefer_h_2_l  person_prefer_h_2_m  \\\n",
       "0                        3  ...                   94                  398   \n",
       "1                        4  ...                   94                  400   \n",
       "2                        3  ...                  250                  528   \n",
       "3                        2  ...                  226                  495   \n",
       "4                        4  ...                  208                  481   \n",
       "...                    ...  ...                  ...                  ...   \n",
       "501946                   2  ...                    3                  316   \n",
       "501947                   2  ...                   94                  425   \n",
       "501948                   4  ...                   94                  413   \n",
       "501949                   2  ...                   48                  359   \n",
       "501950                   3  ...                   30                  342   \n",
       "\n",
       "        person_prefer_h_3_l  person_prefer_h_3_m  contents_attribute_h_l  \\\n",
       "0                        58                  368                      94   \n",
       "1                        94                  399                      94   \n",
       "2                        48                  366                      48   \n",
       "3                         1                  315                      71   \n",
       "4                       208                  480                      71   \n",
       "...                     ...                  ...                     ...   \n",
       "501946                   94                  398                      58   \n",
       "501947                   94                  398                      94   \n",
       "501948                   94                  422                      58   \n",
       "501949                  250                  523                     250   \n",
       "501950                   48                  359                     277   \n",
       "\n",
       "        contents_attribute_h_m  contents_attribute_l_n  \\\n",
       "0                          422                    1607   \n",
       "1                          417                    1607   \n",
       "2                          363                    1599   \n",
       "3                          381                    1607   \n",
       "4                          381                    1607   \n",
       "...                        ...                     ...   \n",
       "501946                     373                     352   \n",
       "501947                     425                     155   \n",
       "501948                     373                     437   \n",
       "501949                     524                     659   \n",
       "501950                     548                     785   \n",
       "\n",
       "        contents_attribute_l_s  contents_attribute_l_m  contents_attribute_l_l  \n",
       "0                         1606                    1605                    2016  \n",
       "1                         1606                    1605                    2016  \n",
       "2                         1595                    1572                    2016  \n",
       "3                         1606                    1605                    2016  \n",
       "4                         1606                    1605                    2016  \n",
       "...                        ...                     ...                     ...  \n",
       "501946                     347                     346                    2006  \n",
       "501947                     138                      99                    2006  \n",
       "501948                     417                     407                    2006  \n",
       "501949                     652                     651                    2006  \n",
       "501950                     784                     759                    2006  \n",
       "\n",
       "[501951 rows x 63 columns]"
      ]
     },
     "execution_count": 4,
     "metadata": {},
     "output_type": "execute_result"
    }
   ],
   "source": [
    "df_train"
   ]
  },
  {
   "cell_type": "code",
   "execution_count": 6,
   "id": "ca60f9a6",
   "metadata": {},
   "outputs": [],
   "source": [
    "import pandas_profiling\n",
    "pr = pandas_profiling.ProfileReport(df_train)"
   ]
  },
  {
   "cell_type": "code",
   "execution_count": 7,
   "id": "6f6e278e",
   "metadata": {},
   "outputs": [
    {
     "data": {
      "application/vnd.jupyter.widget-view+json": {
       "model_id": "4ccb810268174227a430341a60a690dd",
       "version_major": 2,
       "version_minor": 0
      },
      "text/plain": [
       "Summarize dataset:   0%|          | 0/5 [00:00<?, ?it/s]"
      ]
     },
     "metadata": {},
     "output_type": "display_data"
    },
    {
     "name": "stderr",
     "output_type": "stream",
     "text": [
      "c:\\users\\kimis\\appdata\\local\\programs\\python\\python39\\lib\\site-packages\\scipy\\stats\\stats.py:4812: RuntimeWarning: overflow encountered in longlong_scalars\n",
      "  (2 * xtie * ytie) / m + x0 * y0 / (9 * m * (size - 2)))\n",
      "c:\\users\\kimis\\appdata\\local\\programs\\python\\python39\\lib\\site-packages\\missingno\\missingno.py:250: UserWarning: FixedFormatter should only be used together with FixedLocator\n",
      "  ax1.set_xticklabels(ax1.get_xticklabels(), rotation=45, ha='right', fontsize=fontsize)\n",
      "c:\\users\\kimis\\appdata\\local\\programs\\python\\python39\\lib\\site-packages\\pandas_profiling\\model\\missing.py:89: UserWarning: There was an attempt to generate the Count missing values diagrams, but this failed.\n",
      "To hide this warning, disable the calculation\n",
      "(using `df.profile_report(missing_diagrams={\"Count\": False}`)\n",
      "If this is problematic for your use case, please report this as an issue:\n",
      "https://github.com/pandas-profiling/pandas-profiling/issues\n",
      "(include the error message: 'The number of FixedLocator locations (7), usually from a call to set_ticks, does not match the number of ticklabels (63).')\n",
      "  warnings.warn(\n"
     ]
    },
    {
     "data": {
      "application/vnd.jupyter.widget-view+json": {
       "model_id": "73ec02187a7c419fb81fe41804de7eef",
       "version_major": 2,
       "version_minor": 0
      },
      "text/plain": [
       "Generate report structure:   0%|          | 0/1 [00:00<?, ?it/s]"
      ]
     },
     "metadata": {},
     "output_type": "display_data"
    },
    {
     "data": {
      "application/vnd.jupyter.widget-view+json": {
       "model_id": "5d40cd08435a418998e7e907f240cdc5",
       "version_major": 2,
       "version_minor": 0
      },
      "text/plain": [
       "Render HTML:   0%|          | 0/1 [00:00<?, ?it/s]"
      ]
     },
     "metadata": {},
     "output_type": "display_data"
    },
    {
     "data": {
      "application/vnd.jupyter.widget-view+json": {
       "model_id": "9e77e1c11cd94af2bdb487191ae65e52",
       "version_major": 2,
       "version_minor": 0
      },
      "text/plain": [
       "Export report to file:   0%|          | 0/1 [00:00<?, ?it/s]"
      ]
     },
     "metadata": {},
     "output_type": "display_data"
    }
   ],
   "source": [
    "pr.to_file('./profile_report.html')"
   ]
  },
  {
   "cell_type": "code",
   "execution_count": 8,
   "id": "70554c44",
   "metadata": {},
   "outputs": [],
   "source": [
    "data = pd.read_csv('train.csv')"
   ]
  },
  {
   "cell_type": "code",
   "execution_count": 10,
   "id": "4ff5cd5c",
   "metadata": {},
   "outputs": [
    {
     "data": {
      "application/vnd.jupyter.widget-view+json": {
       "model_id": "5e2b49448065418aafe821f9cf12e06f",
       "version_major": 2,
       "version_minor": 0
      },
      "text/plain": [
       "Summarize dataset:   0%|          | 0/5 [00:00<?, ?it/s]"
      ]
     },
     "metadata": {},
     "output_type": "display_data"
    },
    {
     "data": {
      "application/vnd.jupyter.widget-view+json": {
       "model_id": "48e0ee7faa834a6d92383fcf7a9c3a49",
       "version_major": 2,
       "version_minor": 0
      },
      "text/plain": [
       "Generate report structure:   0%|          | 0/1 [00:00<?, ?it/s]"
      ]
     },
     "metadata": {},
     "output_type": "display_data"
    },
    {
     "data": {
      "application/vnd.jupyter.widget-view+json": {
       "model_id": "ebfcf8ec198646c4a03e3d9e7af4df35",
       "version_major": 2,
       "version_minor": 0
      },
      "text/plain": [
       "Render HTML:   0%|          | 0/1 [00:00<?, ?it/s]"
      ]
     },
     "metadata": {},
     "output_type": "display_data"
    },
    {
     "data": {
      "application/vnd.jupyter.widget-view+json": {
       "model_id": "0afef2702b564a4eaf07388760bd75c3",
       "version_major": 2,
       "version_minor": 0
      },
      "text/plain": [
       "Export report to file:   0%|          | 0/1 [00:00<?, ?it/s]"
      ]
     },
     "metadata": {},
     "output_type": "display_data"
    }
   ],
   "source": [
    "pr2 = pandas_profiling.ProfileReport(data)\n",
    "pr2.to_file('profile_report_data.html')"
   ]
  },
  {
   "cell_type": "code",
   "execution_count": null,
   "id": "ca046b7c",
   "metadata": {},
   "outputs": [],
   "source": []
  }
 ],
 "metadata": {
  "kernelspec": {
   "display_name": "Python 3 (ipykernel)",
   "language": "python",
   "name": "python3"
  },
  "language_info": {
   "codemirror_mode": {
    "name": "ipython",
    "version": 3
   },
   "file_extension": ".py",
   "mimetype": "text/x-python",
   "name": "python",
   "nbconvert_exporter": "python",
   "pygments_lexer": "ipython3",
   "version": "3.9.6"
  }
 },
 "nbformat": 4,
 "nbformat_minor": 5
}
